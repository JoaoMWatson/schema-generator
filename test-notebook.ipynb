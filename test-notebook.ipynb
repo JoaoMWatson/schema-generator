{
 "cells": [
  {
   "cell_type": "code",
   "execution_count": 2,
   "metadata": {},
   "outputs": [],
   "source": [
    "import pandas as pd "
   ]
  },
  {
   "cell_type": "code",
   "execution_count": 8,
   "metadata": {},
   "outputs": [
    {
     "name": "stdout",
     "output_type": "stream",
     "text": [
      "      Mapa(s) Unnamed: 1 Pasta: Unnamed: 3  Unnamed: 4 Unnamed: 5  \\\n",
      "18  (I, A, E)      Campo   Tipo    Tamanho  Dado fixo?     Aceita   \n",
      "\n",
      "     Unnamed: 6   Unnamed: 7  \\\n",
      "18  Obrigatório  Comentários   \n",
      "\n",
      "   CONTROLE INTERNO time ETL, Identificação do(s) Mapa(s) envolvidos para esta carga. ( Padrão: M_<CAMADA_DESTINO>_<TARGET> )  \\\n",
      "18              Transformações, Qualidade ou Exceções                                                                           \n",
      "\n",
      "   Unnamed: 9 Unnamed: 10 Unnamed: 11 Unnamed: 12   Unnamed: 13 Unnamed: 14  \n",
      "18      Campo        Tipo     Tamanho   Dado Fixo  Aceita\\nNulo       Chave  \n"
     ]
    }
   ],
   "source": [
    "dataFrame: pd.DataFrame = pd.read_excel(\n",
    "            'DM_ICONTRATO004_v1.xlsx', sheet_name=1).dropna()\n",
    "\n",
    "print(dataFrame)"
   ]
  }
 ],
 "metadata": {
  "interpreter": {
   "hash": "7258eff0e0580be22510706dc718c1d45831283f050c62fc0fe1d88444a37065"
  },
  "kernelspec": {
   "display_name": "Python 3.9.5 64-bit ('.venv': venv)",
   "name": "python3"
  },
  "language_info": {
   "codemirror_mode": {
    "name": "ipython",
    "version": 3
   },
   "file_extension": ".py",
   "mimetype": "text/x-python",
   "name": "python",
   "nbconvert_exporter": "python",
   "pygments_lexer": "ipython3",
   "version": "3.9.5"
  },
  "orig_nbformat": 4
 },
 "nbformat": 4,
 "nbformat_minor": 2
}
